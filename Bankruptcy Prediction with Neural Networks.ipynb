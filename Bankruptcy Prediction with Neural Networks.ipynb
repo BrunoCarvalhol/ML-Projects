{
 "cells": [
  {
   "cell_type": "code",
   "execution_count": 1,
   "metadata": {},
   "outputs": [],
   "source": [
    "import numpy as np\n",
    "import pandas as pd\n",
    "from matplotlib import pyplot as plt\n",
    "%matplotlib inline"
   ]
  },
  {
   "cell_type": "code",
   "execution_count": 2,
   "metadata": {},
   "outputs": [],
   "source": [
    "#Loading the dataset\n",
    "dataset = pd.read_csv(r'C:\\Users\\bruno\\Desktop\\Workspace\\datasets\\bankruptcy.csv')"
   ]
  },
  {
   "cell_type": "code",
   "execution_count": 3,
   "metadata": {},
   "outputs": [
    {
     "data": {
      "text/html": [
       "<div>\n",
       "<style scoped>\n",
       "    .dataframe tbody tr th:only-of-type {\n",
       "        vertical-align: middle;\n",
       "    }\n",
       "\n",
       "    .dataframe tbody tr th {\n",
       "        vertical-align: top;\n",
       "    }\n",
       "\n",
       "    .dataframe thead th {\n",
       "        text-align: right;\n",
       "    }\n",
       "</style>\n",
       "<table border=\"1\" class=\"dataframe\">\n",
       "  <thead>\n",
       "    <tr style=\"text-align: right;\">\n",
       "      <th></th>\n",
       "      <th>Bankrupt?</th>\n",
       "      <th>ROA(C) before interest and depreciation before interest</th>\n",
       "      <th>ROA(A) before interest and % after tax</th>\n",
       "      <th>ROA(B) before interest and depreciation after tax</th>\n",
       "      <th>Operating Gross Margin</th>\n",
       "      <th>Realized Sales Gross Margin</th>\n",
       "      <th>Operating Profit Rate</th>\n",
       "      <th>Pre-tax net Interest Rate</th>\n",
       "      <th>After-tax net Interest Rate</th>\n",
       "      <th>Non-industry income and expenditure/revenue</th>\n",
       "      <th>...</th>\n",
       "      <th>Net Income to Total Assets</th>\n",
       "      <th>Total assets to GNP price</th>\n",
       "      <th>No-credit Interval</th>\n",
       "      <th>Gross Profit to Sales</th>\n",
       "      <th>Net Income to Stockholder's Equity</th>\n",
       "      <th>Liability to Equity</th>\n",
       "      <th>Degree of Financial Leverage (DFL)</th>\n",
       "      <th>Interest Coverage Ratio (Interest expense to EBIT)</th>\n",
       "      <th>Net Income Flag</th>\n",
       "      <th>Equity to Liability</th>\n",
       "    </tr>\n",
       "  </thead>\n",
       "  <tbody>\n",
       "    <tr>\n",
       "      <th>0</th>\n",
       "      <td>1</td>\n",
       "      <td>0.370594</td>\n",
       "      <td>0.424389</td>\n",
       "      <td>0.405750</td>\n",
       "      <td>0.601457</td>\n",
       "      <td>0.601457</td>\n",
       "      <td>0.998969</td>\n",
       "      <td>0.796887</td>\n",
       "      <td>0.808809</td>\n",
       "      <td>0.302646</td>\n",
       "      <td>...</td>\n",
       "      <td>0.716845</td>\n",
       "      <td>0.009219</td>\n",
       "      <td>0.622879</td>\n",
       "      <td>0.601453</td>\n",
       "      <td>0.827890</td>\n",
       "      <td>0.290202</td>\n",
       "      <td>0.026601</td>\n",
       "      <td>0.564050</td>\n",
       "      <td>1</td>\n",
       "      <td>0.016469</td>\n",
       "    </tr>\n",
       "    <tr>\n",
       "      <th>1</th>\n",
       "      <td>1</td>\n",
       "      <td>0.464291</td>\n",
       "      <td>0.538214</td>\n",
       "      <td>0.516730</td>\n",
       "      <td>0.610235</td>\n",
       "      <td>0.610235</td>\n",
       "      <td>0.998946</td>\n",
       "      <td>0.797380</td>\n",
       "      <td>0.809301</td>\n",
       "      <td>0.303556</td>\n",
       "      <td>...</td>\n",
       "      <td>0.795297</td>\n",
       "      <td>0.008323</td>\n",
       "      <td>0.623652</td>\n",
       "      <td>0.610237</td>\n",
       "      <td>0.839969</td>\n",
       "      <td>0.283846</td>\n",
       "      <td>0.264577</td>\n",
       "      <td>0.570175</td>\n",
       "      <td>1</td>\n",
       "      <td>0.020794</td>\n",
       "    </tr>\n",
       "    <tr>\n",
       "      <th>2</th>\n",
       "      <td>1</td>\n",
       "      <td>0.426071</td>\n",
       "      <td>0.499019</td>\n",
       "      <td>0.472295</td>\n",
       "      <td>0.601450</td>\n",
       "      <td>0.601364</td>\n",
       "      <td>0.998857</td>\n",
       "      <td>0.796403</td>\n",
       "      <td>0.808388</td>\n",
       "      <td>0.302035</td>\n",
       "      <td>...</td>\n",
       "      <td>0.774670</td>\n",
       "      <td>0.040003</td>\n",
       "      <td>0.623841</td>\n",
       "      <td>0.601449</td>\n",
       "      <td>0.836774</td>\n",
       "      <td>0.290189</td>\n",
       "      <td>0.026555</td>\n",
       "      <td>0.563706</td>\n",
       "      <td>1</td>\n",
       "      <td>0.016474</td>\n",
       "    </tr>\n",
       "    <tr>\n",
       "      <th>3</th>\n",
       "      <td>1</td>\n",
       "      <td>0.399844</td>\n",
       "      <td>0.451265</td>\n",
       "      <td>0.457733</td>\n",
       "      <td>0.583541</td>\n",
       "      <td>0.583541</td>\n",
       "      <td>0.998700</td>\n",
       "      <td>0.796967</td>\n",
       "      <td>0.808966</td>\n",
       "      <td>0.303350</td>\n",
       "      <td>...</td>\n",
       "      <td>0.739555</td>\n",
       "      <td>0.003252</td>\n",
       "      <td>0.622929</td>\n",
       "      <td>0.583538</td>\n",
       "      <td>0.834697</td>\n",
       "      <td>0.281721</td>\n",
       "      <td>0.026697</td>\n",
       "      <td>0.564663</td>\n",
       "      <td>1</td>\n",
       "      <td>0.023982</td>\n",
       "    </tr>\n",
       "    <tr>\n",
       "      <th>4</th>\n",
       "      <td>1</td>\n",
       "      <td>0.465022</td>\n",
       "      <td>0.538432</td>\n",
       "      <td>0.522298</td>\n",
       "      <td>0.598783</td>\n",
       "      <td>0.598783</td>\n",
       "      <td>0.998973</td>\n",
       "      <td>0.797366</td>\n",
       "      <td>0.809304</td>\n",
       "      <td>0.303475</td>\n",
       "      <td>...</td>\n",
       "      <td>0.795016</td>\n",
       "      <td>0.003878</td>\n",
       "      <td>0.623521</td>\n",
       "      <td>0.598782</td>\n",
       "      <td>0.839973</td>\n",
       "      <td>0.278514</td>\n",
       "      <td>0.024752</td>\n",
       "      <td>0.575617</td>\n",
       "      <td>1</td>\n",
       "      <td>0.035490</td>\n",
       "    </tr>\n",
       "  </tbody>\n",
       "</table>\n",
       "<p>5 rows × 96 columns</p>\n",
       "</div>"
      ],
      "text/plain": [
       "   Bankrupt?   ROA(C) before interest and depreciation before interest  \\\n",
       "0          1                                           0.370594          \n",
       "1          1                                           0.464291          \n",
       "2          1                                           0.426071          \n",
       "3          1                                           0.399844          \n",
       "4          1                                           0.465022          \n",
       "\n",
       "    ROA(A) before interest and % after tax  \\\n",
       "0                                 0.424389   \n",
       "1                                 0.538214   \n",
       "2                                 0.499019   \n",
       "3                                 0.451265   \n",
       "4                                 0.538432   \n",
       "\n",
       "    ROA(B) before interest and depreciation after tax  \\\n",
       "0                                           0.405750    \n",
       "1                                           0.516730    \n",
       "2                                           0.472295    \n",
       "3                                           0.457733    \n",
       "4                                           0.522298    \n",
       "\n",
       "    Operating Gross Margin   Realized Sales Gross Margin  \\\n",
       "0                 0.601457                      0.601457   \n",
       "1                 0.610235                      0.610235   \n",
       "2                 0.601450                      0.601364   \n",
       "3                 0.583541                      0.583541   \n",
       "4                 0.598783                      0.598783   \n",
       "\n",
       "    Operating Profit Rate   Pre-tax net Interest Rate  \\\n",
       "0                0.998969                    0.796887   \n",
       "1                0.998946                    0.797380   \n",
       "2                0.998857                    0.796403   \n",
       "3                0.998700                    0.796967   \n",
       "4                0.998973                    0.797366   \n",
       "\n",
       "    After-tax net Interest Rate   Non-industry income and expenditure/revenue  \\\n",
       "0                      0.808809                                      0.302646   \n",
       "1                      0.809301                                      0.303556   \n",
       "2                      0.808388                                      0.302035   \n",
       "3                      0.808966                                      0.303350   \n",
       "4                      0.809304                                      0.303475   \n",
       "\n",
       "   ...   Net Income to Total Assets   Total assets to GNP price  \\\n",
       "0  ...                     0.716845                    0.009219   \n",
       "1  ...                     0.795297                    0.008323   \n",
       "2  ...                     0.774670                    0.040003   \n",
       "3  ...                     0.739555                    0.003252   \n",
       "4  ...                     0.795016                    0.003878   \n",
       "\n",
       "    No-credit Interval   Gross Profit to Sales  \\\n",
       "0             0.622879                0.601453   \n",
       "1             0.623652                0.610237   \n",
       "2             0.623841                0.601449   \n",
       "3             0.622929                0.583538   \n",
       "4             0.623521                0.598782   \n",
       "\n",
       "    Net Income to Stockholder's Equity   Liability to Equity  \\\n",
       "0                             0.827890              0.290202   \n",
       "1                             0.839969              0.283846   \n",
       "2                             0.836774              0.290189   \n",
       "3                             0.834697              0.281721   \n",
       "4                             0.839973              0.278514   \n",
       "\n",
       "    Degree of Financial Leverage (DFL)  \\\n",
       "0                             0.026601   \n",
       "1                             0.264577   \n",
       "2                             0.026555   \n",
       "3                             0.026697   \n",
       "4                             0.024752   \n",
       "\n",
       "    Interest Coverage Ratio (Interest expense to EBIT)   Net Income Flag  \\\n",
       "0                                           0.564050                   1   \n",
       "1                                           0.570175                   1   \n",
       "2                                           0.563706                   1   \n",
       "3                                           0.564663                   1   \n",
       "4                                           0.575617                   1   \n",
       "\n",
       "    Equity to Liability  \n",
       "0              0.016469  \n",
       "1              0.020794  \n",
       "2              0.016474  \n",
       "3              0.023982  \n",
       "4              0.035490  \n",
       "\n",
       "[5 rows x 96 columns]"
      ]
     },
     "execution_count": 3,
     "metadata": {},
     "output_type": "execute_result"
    }
   ],
   "source": [
    "dataset.head()"
   ]
  },
  {
   "cell_type": "code",
   "execution_count": 4,
   "metadata": {},
   "outputs": [
    {
     "data": {
      "text/plain": [
       "Index(['Bankrupt?', ' ROA(C) before interest and depreciation before interest',\n",
       "       ' ROA(A) before interest and % after tax',\n",
       "       ' ROA(B) before interest and depreciation after tax',\n",
       "       ' Operating Gross Margin', ' Realized Sales Gross Margin',\n",
       "       ' Operating Profit Rate', ' Pre-tax net Interest Rate',\n",
       "       ' After-tax net Interest Rate',\n",
       "       ' Non-industry income and expenditure/revenue',\n",
       "       ' Continuous interest rate (after tax)', ' Operating Expense Rate',\n",
       "       ' Research and development expense rate', ' Cash flow rate',\n",
       "       ' Interest-bearing debt interest rate', ' Tax rate (A)',\n",
       "       ' Net Value Per Share (B)', ' Net Value Per Share (A)',\n",
       "       ' Net Value Per Share (C)', ' Persistent EPS in the Last Four Seasons',\n",
       "       ' Cash Flow Per Share', ' Revenue Per Share (Yuan ¥)',\n",
       "       ' Operating Profit Per Share (Yuan ¥)',\n",
       "       ' Per Share Net profit before tax (Yuan ¥)',\n",
       "       ' Realized Sales Gross Profit Growth Rate',\n",
       "       ' Operating Profit Growth Rate', ' After-tax Net Profit Growth Rate',\n",
       "       ' Regular Net Profit Growth Rate', ' Continuous Net Profit Growth Rate',\n",
       "       ' Total Asset Growth Rate', ' Net Value Growth Rate',\n",
       "       ' Total Asset Return Growth Rate Ratio', ' Cash Reinvestment %',\n",
       "       ' Current Ratio', ' Quick Ratio', ' Interest Expense Ratio',\n",
       "       ' Total debt/Total net worth', ' Debt ratio %', ' Net worth/Assets',\n",
       "       ' Long-term fund suitability ratio (A)', ' Borrowing dependency',\n",
       "       ' Contingent liabilities/Net worth',\n",
       "       ' Operating profit/Paid-in capital',\n",
       "       ' Net profit before tax/Paid-in capital',\n",
       "       ' Inventory and accounts receivable/Net value', ' Total Asset Turnover',\n",
       "       ' Accounts Receivable Turnover', ' Average Collection Days',\n",
       "       ' Inventory Turnover Rate (times)', ' Fixed Assets Turnover Frequency',\n",
       "       ' Net Worth Turnover Rate (times)', ' Revenue per person',\n",
       "       ' Operating profit per person', ' Allocation rate per person',\n",
       "       ' Working Capital to Total Assets', ' Quick Assets/Total Assets',\n",
       "       ' Current Assets/Total Assets', ' Cash/Total Assets',\n",
       "       ' Quick Assets/Current Liability', ' Cash/Current Liability',\n",
       "       ' Current Liability to Assets', ' Operating Funds to Liability',\n",
       "       ' Inventory/Working Capital', ' Inventory/Current Liability',\n",
       "       ' Current Liabilities/Liability', ' Working Capital/Equity',\n",
       "       ' Current Liabilities/Equity', ' Long-term Liability to Current Assets',\n",
       "       ' Retained Earnings to Total Assets', ' Total income/Total expense',\n",
       "       ' Total expense/Assets', ' Current Asset Turnover Rate',\n",
       "       ' Quick Asset Turnover Rate', ' Working capitcal Turnover Rate',\n",
       "       ' Cash Turnover Rate', ' Cash Flow to Sales', ' Fixed Assets to Assets',\n",
       "       ' Current Liability to Liability', ' Current Liability to Equity',\n",
       "       ' Equity to Long-term Liability', ' Cash Flow to Total Assets',\n",
       "       ' Cash Flow to Liability', ' CFO to Assets', ' Cash Flow to Equity',\n",
       "       ' Current Liability to Current Assets', ' Liability-Assets Flag',\n",
       "       ' Net Income to Total Assets', ' Total assets to GNP price',\n",
       "       ' No-credit Interval', ' Gross Profit to Sales',\n",
       "       ' Net Income to Stockholder's Equity', ' Liability to Equity',\n",
       "       ' Degree of Financial Leverage (DFL)',\n",
       "       ' Interest Coverage Ratio (Interest expense to EBIT)',\n",
       "       ' Net Income Flag', ' Equity to Liability'],\n",
       "      dtype='object')"
      ]
     },
     "execution_count": 4,
     "metadata": {},
     "output_type": "execute_result"
    }
   ],
   "source": [
    "dataset.columns"
   ]
  },
  {
   "cell_type": "code",
   "execution_count": 5,
   "metadata": {},
   "outputs": [
    {
     "data": {
      "text/plain": [
       "float64    93\n",
       "int64       3\n",
       "dtype: int64"
      ]
     },
     "execution_count": 5,
     "metadata": {},
     "output_type": "execute_result"
    }
   ],
   "source": [
    "dataset.dtypes.value_counts()"
   ]
  },
  {
   "cell_type": "code",
   "execution_count": 6,
   "metadata": {},
   "outputs": [
    {
     "data": {
      "text/plain": [
       "0    96\n",
       "dtype: int64"
      ]
     },
     "execution_count": 6,
     "metadata": {},
     "output_type": "execute_result"
    }
   ],
   "source": [
    "dataset.isnull().sum().value_counts()"
   ]
  },
  {
   "cell_type": "code",
   "execution_count": 7,
   "metadata": {},
   "outputs": [
    {
     "data": {
      "text/plain": [
       "0    0.967737\n",
       "1    0.032263\n",
       "Name: Bankrupt?, dtype: float64"
      ]
     },
     "execution_count": 7,
     "metadata": {},
     "output_type": "execute_result"
    }
   ],
   "source": [
    "dataset['Bankrupt?'].value_counts(normalize=True)"
   ]
  },
  {
   "cell_type": "code",
   "execution_count": 8,
   "metadata": {},
   "outputs": [],
   "source": [
    "from imblearn.over_sampling import SMOTE\n",
    "from sklearn import preprocessing"
   ]
  },
  {
   "cell_type": "code",
   "execution_count": 9,
   "metadata": {},
   "outputs": [],
   "source": [
    "X = dataset.drop(\"Bankrupt?\", axis = 'columns')\n",
    "y = dataset['Bankrupt?']"
   ]
  },
  {
   "cell_type": "code",
   "execution_count": 10,
   "metadata": {},
   "outputs": [],
   "source": [
    "normalized_X_data = preprocessing.normalize(X)"
   ]
  },
  {
   "cell_type": "code",
   "execution_count": 11,
   "metadata": {},
   "outputs": [],
   "source": [
    "smote = SMOTE(sampling_strategy='minority')\n",
    "X_sm, y_sm = smote.fit_sample(normalized_X_data,y)"
   ]
  },
  {
   "cell_type": "code",
   "execution_count": 12,
   "metadata": {},
   "outputs": [
    {
     "data": {
      "text/plain": [
       "1    6599\n",
       "0    6599\n",
       "Name: Bankrupt?, dtype: int64"
      ]
     },
     "execution_count": 12,
     "metadata": {},
     "output_type": "execute_result"
    }
   ],
   "source": [
    "y_sm.value_counts()"
   ]
  },
  {
   "cell_type": "code",
   "execution_count": 13,
   "metadata": {},
   "outputs": [],
   "source": [
    "from sklearn.model_selection import train_test_split\n",
    "from sklearn.metrics import confusion_matrix , classification_report\n",
    "X_train, X_test, y_train, y_test = train_test_split(X_sm,y_sm,test_size=0.3, random_state=42, stratify=y_sm)"
   ]
  },
  {
   "cell_type": "code",
   "execution_count": 14,
   "metadata": {},
   "outputs": [],
   "source": [
    "import tensorflow as tf\n",
    "from tensorflow import keras"
   ]
  },
  {
   "cell_type": "code",
   "execution_count": 25,
   "metadata": {},
   "outputs": [],
   "source": [
    "def NN(X_train, y_train, X_test, y_test, loss):\n",
    "    model = keras.Sequential([\n",
    "        keras.layers.Dense(92, input_shape=(95,), activation='relu'),\n",
    "        keras.layers.Dense(70, activation='relu'),\n",
    "        keras.layers.Dense(65, activation='relu'),\n",
    "        keras.layers.Dense(40, activation='relu'),\n",
    "        keras.layers.Dense(25, activation='relu'),\n",
    "        keras.layers.Dense(15, activation='relu'),\n",
    "        keras.layers.Dense(10, activation='relu'),\n",
    "        keras.layers.Dense(1, activation='sigmoid'),\n",
    "    ])\n",
    "\n",
    "    model.compile(optimizer='adam', loss='binary_crossentropy', metrics=['accuracy'])\n",
    "\n",
    "\n",
    "    model.fit(X_train, y_train, epochs=64)\n",
    "\n",
    "    \n",
    "    print(model.evaluate(X_test, y_test))    \n",
    "    \n",
    "    y_preds = model.predict(X_test)\n",
    "    y_preds = np.round(y_preds)\n",
    "    \n",
    "    print(\"Classification Report: \\n\", classification_report(y_test, y_preds))\n",
    "    \n",
    "    return y_preds"
   ]
  },
  {
   "cell_type": "code",
   "execution_count": 26,
   "metadata": {},
   "outputs": [
    {
     "name": "stdout",
     "output_type": "stream",
     "text": [
      "Epoch 1/64\n",
      "289/289 [==============================] - 0s 708us/step - loss: 0.6191 - accuracy: 0.6622\n",
      "Epoch 2/64\n",
      "289/289 [==============================] - 0s 748us/step - loss: 0.4933 - accuracy: 0.7667\n",
      "Epoch 3/64\n",
      "289/289 [==============================] - 0s 742us/step - loss: 0.4306 - accuracy: 0.8065\n",
      "Epoch 4/64\n",
      "289/289 [==============================] - 0s 734us/step - loss: 0.3896 - accuracy: 0.8325\n",
      "Epoch 5/64\n",
      "289/289 [==============================] - 0s 737us/step - loss: 0.3726 - accuracy: 0.8305\n",
      "Epoch 6/64\n",
      "289/289 [==============================] - 0s 726us/step - loss: 0.3367 - accuracy: 0.8568\n",
      "Epoch 7/64\n",
      "289/289 [==============================] - 0s 710us/step - loss: 0.3168 - accuracy: 0.8625\n",
      "Epoch 8/64\n",
      "289/289 [==============================] - 0s 723us/step - loss: 0.2979 - accuracy: 0.8761\n",
      "Epoch 9/64\n",
      "289/289 [==============================] - 0s 711us/step - loss: 0.2880 - accuracy: 0.8816\n",
      "Epoch 10/64\n",
      "289/289 [==============================] - 0s 729us/step - loss: 0.2744 - accuracy: 0.8885\n",
      "Epoch 11/64\n",
      "289/289 [==============================] - 0s 700us/step - loss: 0.2599 - accuracy: 0.8947\n",
      "Epoch 12/64\n",
      "289/289 [==============================] - 0s 725us/step - loss: 0.2496 - accuracy: 0.8991\n",
      "Epoch 13/64\n",
      "289/289 [==============================] - 0s 719us/step - loss: 0.2420 - accuracy: 0.9018\n",
      "Epoch 14/64\n",
      "289/289 [==============================] - 0s 723us/step - loss: 0.2310 - accuracy: 0.9064\n",
      "Epoch 15/64\n",
      "289/289 [==============================] - 0s 728us/step - loss: 0.2273 - accuracy: 0.9103\n",
      "Epoch 16/64\n",
      "289/289 [==============================] - 0s 744us/step - loss: 0.2192 - accuracy: 0.9147\n",
      "Epoch 17/64\n",
      "289/289 [==============================] - 0s 727us/step - loss: 0.2228 - accuracy: 0.9087\n",
      "Epoch 18/64\n",
      "289/289 [==============================] - 0s 739us/step - loss: 0.2051 - accuracy: 0.9175\n",
      "Epoch 19/64\n",
      "289/289 [==============================] - 0s 743us/step - loss: 0.2011 - accuracy: 0.9221\n",
      "Epoch 20/64\n",
      "289/289 [==============================] - 0s 718us/step - loss: 0.2118 - accuracy: 0.9157\n",
      "Epoch 21/64\n",
      "289/289 [==============================] - 0s 746us/step - loss: 0.1929 - accuracy: 0.9241\n",
      "Epoch 22/64\n",
      "289/289 [==============================] - 0s 750us/step - loss: 0.1904 - accuracy: 0.9238\n",
      "Epoch 23/64\n",
      "289/289 [==============================] - 0s 751us/step - loss: 0.1901 - accuracy: 0.9263\n",
      "Epoch 24/64\n",
      "289/289 [==============================] - 0s 749us/step - loss: 0.1855 - accuracy: 0.9237\n",
      "Epoch 25/64\n",
      "289/289 [==============================] - 0s 739us/step - loss: 0.1772 - accuracy: 0.9307\n",
      "Epoch 26/64\n",
      "289/289 [==============================] - 0s 710us/step - loss: 0.1772 - accuracy: 0.9310\n",
      "Epoch 27/64\n",
      "289/289 [==============================] - 0s 719us/step - loss: 0.1710 - accuracy: 0.9332\n",
      "Epoch 28/64\n",
      "289/289 [==============================] - 0s 737us/step - loss: 0.1748 - accuracy: 0.9297\n",
      "Epoch 29/64\n",
      "289/289 [==============================] - 0s 737us/step - loss: 0.1684 - accuracy: 0.9346\n",
      "Epoch 30/64\n",
      "289/289 [==============================] - 0s 718us/step - loss: 0.1633 - accuracy: 0.9333\n",
      "Epoch 31/64\n",
      "289/289 [==============================] - 0s 710us/step - loss: 0.1646 - accuracy: 0.9357\n",
      "Epoch 32/64\n",
      "289/289 [==============================] - 0s 722us/step - loss: 0.1639 - accuracy: 0.9355\n",
      "Epoch 33/64\n",
      "289/289 [==============================] - 0s 714us/step - loss: 0.1613 - accuracy: 0.9363\n",
      "Epoch 34/64\n",
      "289/289 [==============================] - 0s 728us/step - loss: 0.1630 - accuracy: 0.9356\n",
      "Epoch 35/64\n",
      "289/289 [==============================] - 0s 719us/step - loss: 0.1609 - accuracy: 0.9346\n",
      "Epoch 36/64\n",
      "289/289 [==============================] - 0s 765us/step - loss: 0.1500 - accuracy: 0.9399\n",
      "Epoch 37/64\n",
      "289/289 [==============================] - 0s 724us/step - loss: 0.1587 - accuracy: 0.9343\n",
      "Epoch 38/64\n",
      "289/289 [==============================] - 0s 719us/step - loss: 0.1534 - accuracy: 0.9388\n",
      "Epoch 39/64\n",
      "289/289 [==============================] - 0s 762us/step - loss: 0.1470 - accuracy: 0.9400\n",
      "Epoch 40/64\n",
      "289/289 [==============================] - 0s 711us/step - loss: 0.1574 - accuracy: 0.9348\n",
      "Epoch 41/64\n",
      "289/289 [==============================] - 0s 726us/step - loss: 0.1445 - accuracy: 0.9413\n",
      "Epoch 42/64\n",
      "289/289 [==============================] - 0s 718us/step - loss: 0.1432 - accuracy: 0.9418\n",
      "Epoch 43/64\n",
      "289/289 [==============================] - 0s 740us/step - loss: 0.1393 - accuracy: 0.9454\n",
      "Epoch 44/64\n",
      "289/289 [==============================] - 0s 720us/step - loss: 0.1354 - accuracy: 0.9460\n",
      "Epoch 45/64\n",
      "289/289 [==============================] - 0s 723us/step - loss: 0.1427 - accuracy: 0.9445\n",
      "Epoch 46/64\n",
      "289/289 [==============================] - 0s 764us/step - loss: 0.1372 - accuracy: 0.9445\n",
      "Epoch 47/64\n",
      "289/289 [==============================] - 0s 701us/step - loss: 0.1400 - accuracy: 0.9436\n",
      "Epoch 48/64\n",
      "289/289 [==============================] - 0s 733us/step - loss: 0.1423 - accuracy: 0.9430\n",
      "Epoch 49/64\n",
      "289/289 [==============================] - 0s 715us/step - loss: 0.1331 - accuracy: 0.9463\n",
      "Epoch 50/64\n",
      "289/289 [==============================] - 0s 742us/step - loss: 0.1369 - accuracy: 0.9435\n",
      "Epoch 51/64\n",
      "289/289 [==============================] - 0s 727us/step - loss: 0.1321 - accuracy: 0.9472\n",
      "Epoch 52/64\n",
      "289/289 [==============================] - 0s 736us/step - loss: 0.1390 - accuracy: 0.9463\n",
      "Epoch 53/64\n",
      "289/289 [==============================] - 0s 713us/step - loss: 0.1274 - accuracy: 0.9497\n",
      "Epoch 54/64\n",
      "289/289 [==============================] - 0s 715us/step - loss: 0.1241 - accuracy: 0.9489\n",
      "Epoch 55/64\n",
      "289/289 [==============================] - 0s 732us/step - loss: 0.1215 - accuracy: 0.9515\n",
      "Epoch 56/64\n",
      "289/289 [==============================] - 0s 705us/step - loss: 0.1290 - accuracy: 0.9484\n",
      "Epoch 57/64\n",
      "289/289 [==============================] - 0s 710us/step - loss: 0.1245 - accuracy: 0.9505\n",
      "Epoch 58/64\n",
      "289/289 [==============================] - 0s 758us/step - loss: 0.1210 - accuracy: 0.9524\n",
      "Epoch 59/64\n",
      "289/289 [==============================] - 0s 745us/step - loss: 0.1202 - accuracy: 0.9520\n",
      "Epoch 60/64\n",
      "289/289 [==============================] - 0s 731us/step - loss: 0.1299 - accuracy: 0.9483\n",
      "Epoch 61/64\n",
      "289/289 [==============================] - 0s 735us/step - loss: 0.1202 - accuracy: 0.9507\n",
      "Epoch 62/64\n",
      "289/289 [==============================] - 0s 751us/step - loss: 0.1167 - accuracy: 0.9552\n",
      "Epoch 63/64\n",
      "289/289 [==============================] - 0s 758us/step - loss: 0.1138 - accuracy: 0.9552\n",
      "Epoch 64/64\n",
      "289/289 [==============================] - 0s 740us/step - loss: 0.1214 - accuracy: 0.9512\n",
      "124/124 [==============================] - 0s 466us/step - loss: 0.1703 - accuracy: 0.9407\n",
      "[0.17032893002033234, 0.9406565427780151]\n",
      "Classification Report: \n",
      "               precision    recall  f1-score   support\n",
      "\n",
      "           0       0.98      0.90      0.94      1980\n",
      "           1       0.91      0.98      0.94      1980\n",
      "\n",
      "    accuracy                           0.94      3960\n",
      "   macro avg       0.94      0.94      0.94      3960\n",
      "weighted avg       0.94      0.94      0.94      3960\n",
      "\n"
     ]
    }
   ],
   "source": [
    "y_preds = NN(X_train, y_train, X_test, y_test, 'binary_crossentropy')"
   ]
  },
  {
   "cell_type": "code",
   "execution_count": 58,
   "metadata": {},
   "outputs": [
    {
     "data": {
      "text/plain": [
       "Text(69.0, 0.5, 'Truth')"
      ]
     },
     "execution_count": 58,
     "metadata": {},
     "output_type": "execute_result"
    },
    {
     "data": {
      "image/png": "[encoded data removed]",
      "text/plain": [
       "<Figure size 720x504 with 2 Axes>"
      ]
     },
     "metadata": {
      "needs_background": "light"
     },
     "output_type": "display_data"
    }
   ],
   "source": [
    "import seaborn as sn\n",
    "cm = tf.math.confusion_matrix(labels=y_test,predictions=y_preds)\n",
    "\n",
    "plt.figure(figsize = (10,7))\n",
    "sn.heatmap(cm, annot=True, fmt='d')\n",
    "plt.xlabel('Predicted')\n",
    "plt.ylabel('Truth')"
   ]
  },
  {
   "cell_type": "code",
   "execution_count": null,
   "metadata": {},
   "outputs": [],
   "source": []
  }
 ],
 "metadata": {
  "kernelspec": {
   "display_name": "Python 3",
   "language": "python",
   "name": "python3"
  },
  "language_info": {
   "codemirror_mode": {
    "name": "ipython",
    "version": 3
   },
   "file_extension": ".py",
   "mimetype": "text/x-python",
   "name": "python",
   "nbconvert_exporter": "python",
   "pygments_lexer": "ipython3",
   "version": "3.8.3"
  }
 },
 "nbformat": 4,
 "nbformat_minor": 4
}
